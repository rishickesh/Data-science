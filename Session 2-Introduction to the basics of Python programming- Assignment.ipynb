{
 "cells": [
  {
   "cell_type": "markdown",
   "metadata": {},
   "source": [
    "### Data Analytics Assignment 1 - Python Introduction\n",
    "\n",
    "Data cleansing, List, Dictionary, conditionals, loops"
   ]
  },
  {
   "cell_type": "code",
   "execution_count": 3,
   "metadata": {},
   "outputs": [],
   "source": [
    "#You are given the batting data of qualifier between MI and KKR in the form of a nested dictionary.\n",
    "\n",
    "qualifier_2 = {'KKR' : {'Chris Lynn': 4, \n",
    "                      'Sunil Narine': 10, \n",
    "                      'Gautam Gambhir (c)': 12, \n",
    "                      'Robin Uthappa (wk)': 1, \n",
    "                      'Ishank Jaggi': 28, \n",
    "                      'Colin Grandhomme': 0,\n",
    "                      'Suryakumar Yadav': 31,\n",
    "                      'Piyush Chawla': 2,\n",
    "                      'Nathan Coulter-Nile': 6,\n",
    "                      'Umesh Yadav': 2,\n",
    "                      'Ankit Rajpoot': 4,\n",
    "                      'Extra runs': 7,\n",
    "                      'Total batted': 10},\n",
    "                'MI': {'Lendl Simmons': 3,\n",
    "                      'Parthiv Patel (wk)': 14,\n",
    "                      'Ambati Rayudu': 6,\n",
    "                      'Rohit Sharma (c)': 26,\n",
    "                      'Krunal Pandya': 45,\n",
    "                      'Kieron Pollard': 9,\n",
    "                      'Extra runs': 8,\n",
    "                      'Total batted': 6}}\n"
   ]
  },
  {
   "cell_type": "code",
   "execution_count": 4,
   "metadata": {},
   "outputs": [
    {
     "name": "stdout",
     "output_type": "stream",
     "text": [
      "10\n",
      "6\n"
     ]
    }
   ],
   "source": [
    "#Question 1:\n",
    "#Clean the data and delete any entry from the dictionary that would impact your finding the total score later \n",
    "#(hint: do you get total score if you add all the runs?)\n",
    "print(qualifier_2['KKR'].pop('Total batted'))\n",
    "print(qualifier_2['MI'].pop('Total batted'))\n"
   ]
  },
  {
   "cell_type": "code",
   "execution_count": 14,
   "metadata": {},
   "outputs": [
    {
     "name": "stdout",
     "output_type": "stream",
     "text": [
      "['Chris', 'Sunil', 'Gautam', 'Robin', 'Ishank', 'Colin', 'Suryakumar', 'Piyush', 'Nathan', 'Umesh', 'Ankit']\n",
      "['Lynn', 'Narine', 'Gambhir', 'Uthappa', 'Jaggi', 'Grandhomme', 'Yadav', 'Chawla', 'Coulter-Nile', 'Yadav', 'Rajpoot']\n",
      "['Lendl', 'Parthiv', 'Ambati', 'Rohit', 'Krunal', 'Kieron']\n",
      "['Simmons', 'Patel', 'Rayudu', 'Sharma', 'Pandya', 'Pollard']\n"
     ]
    }
   ],
   "source": [
    "#Question 2:\n",
    "#Create 4 lists consisting of names and lastnames of players: kkr_name, kkr_lastname, mi_name, mi_last and delete any entries\n",
    "#in the lists that don't reflect player names.\n",
    "#They should look like: print(kkr_name) ['Chris', 'Sunil', 'Gautam'] etc.\n",
    "kkr_name=[]\n",
    "kkr_lastname=[]\n",
    "mi_name=[]\n",
    "mi_lastname=[]\n",
    "i=0\n",
    "for key,value in qualifier_2['KKR'].items():\n",
    "    s=key\n",
    "    n1=s.split()\n",
    "    if s!='Extra runs':\n",
    "        kkr_name.append(n1[0])\n",
    "for key,value in qualifier_2['KKR'].items():\n",
    "    s=key\n",
    "    n1=s.split()\n",
    "    if s!='Extra runs':\n",
    "        kkr_lastname.append(n1[1])\n",
    "for key,value in qualifier_2['MI'].items():\n",
    "    s=key\n",
    "    n1=s.split()\n",
    "    if s!='Extra runs':\n",
    "        mi_name.append(n1[0])\n",
    "for key,value in qualifier_2['MI'].items():\n",
    "    s=key\n",
    "    n1=s.split()\n",
    "    if s!='Extra runs':\n",
    "        mi_lastname.append(n1[1])\n",
    "    \n",
    "    \n",
    "print(kkr_name)\n",
    "print(kkr_lastname)\n",
    "print(mi_name)\n",
    "print(mi_lastname)"
   ]
  },
  {
   "cell_type": "code",
   "execution_count": 17,
   "metadata": {},
   "outputs": [
    {
     "name": "stdout",
     "output_type": "stream",
     "text": [
      "107\n"
     ]
    }
   ],
   "source": [
    "#Question 3:\n",
    "# Write a function that takes dictionary and team as an argument and returns the total runs\n",
    "# Test case:\n",
    "# print(total_runs(qualifier_2, 'KKR')) should print 107\n",
    "def total_runs(d,team):\n",
    "    sum=0\n",
    "    for key,value in d[team].items():\n",
    "        sum+=value\n",
    "    return sum\n",
    "print(total_runs(qualifier_2,'KKR'))"
   ]
  },
  {
   "cell_type": "code",
   "execution_count": 18,
   "metadata": {},
   "outputs": [
    {
     "name": "stdout",
     "output_type": "stream",
     "text": [
      "MI\n"
     ]
    }
   ],
   "source": [
    "#Question 4:\n",
    "#.Write a function that takes dictionary and returns the name of the winning team.\n",
    "# Test case:\n",
    "# winner(qualifier_2) should print 'MI'\n",
    "def winner(d):\n",
    "    sum1=0\n",
    "    sum2=0\n",
    "    for key,value in d['KKR'].items():\n",
    "        sum1+=value\n",
    "    for key,value in d['MI'].items():\n",
    "        sum2+=value\n",
    "    if sum1>sum2:\n",
    "        print(\"KKR\")\n",
    "    else:\n",
    "        print(\"MI\")\n",
    "winner(qualifier_2)"
   ]
  },
  {
   "cell_type": "code",
   "execution_count": 22,
   "metadata": {},
   "outputs": [
    {
     "name": "stdout",
     "output_type": "stream",
     "text": [
      "MI\n"
     ]
    }
   ],
   "source": [
    "#Question 5:\n",
    "#Write a function that returns the name of the team that gave maximum extra runs. \n",
    "#If the extra runs are same for both the teams, the function should print('Both team bowlers equally sloppy')\n",
    "# Test case:\n",
    "#print(sloppy_bowlers(qualifier_2)) should print 'MI'\n",
    "def sloppy_bowlers(d):\n",
    "    if(d['KKR']['Extra runs']>d['MI']['Extra runs']):\n",
    "        print(\"KKR\")\n",
    "    elif d['KKR']['Extra runs']<d['MI']['Extra runs']:\n",
    "        print(\"MI\")\n",
    "    else:\n",
    "        print(\"Both team bowlers equally sloppy\")\n",
    "sloppy_bowlers(qualifier_2)"
   ]
  },
  {
   "cell_type": "code",
   "execution_count": 30,
   "metadata": {},
   "outputs": [
    {
     "name": "stdout",
     "output_type": "stream",
     "text": [
      "good job\n"
     ]
    }
   ],
   "source": [
    "#Question 6:\n",
    "# Given the list kkr_runs = [4, 10, 12, 1, 28, 0, 31, 2, 6, 2, 4], \n",
    "# print \"good job\" if the score is more than 30, \n",
    "# \"YOu can do better\" if the score is greater than 20 but less than 30,\n",
    "# \"Ok you did something\" if the score is more than 10 and less than or equal to 20,\n",
    "# \"Duck\" if its 0,\n",
    "# \"Come on!\" if its more than 0 and less than or equal to 10\n",
    "sum=0\n",
    "kkr_runs=[]\n",
    "for key,value in qualifier_2['KKR'].items():\n",
    "    kkr_runs.append(value)\n",
    "for i in kkr_runs:\n",
    "    sum+=i\n",
    "\n",
    "if sum>30:\n",
    "    print(\"good job\")\n",
    "elif sum>20 and sum<=30:\n",
    "    print(\"you can do better\")\n",
    "elif sum>10 and sum<=20:\n",
    "    print(\"ok you did something\")\n",
    "elif sum==0:\n",
    "    print(\"duck\")\n",
    "elif sum>0 and sum<=10:\n",
    "    print(\"Come on!\")"
   ]
  },
  {
   "cell_type": "code",
   "execution_count": 35,
   "metadata": {},
   "outputs": [
    {
     "name": "stdout",
     "output_type": "stream",
     "text": [
      "Enter 2 no.s:2 7\n",
      "2\n",
      "3\n",
      "4\n",
      "5\n",
      "6\n",
      "7\n"
     ]
    }
   ],
   "source": [
    "#Question 7:\n",
    "# Ask the user to enter two numbers. Print all numbers between these two numbers, both numbers included. \n",
    "# The numbers could be in any order. Use while loop\n",
    "# If both the numbers are same, print \"duh\".\n",
    "a,b=input(\"Enter 2 no.s:\").split()\n",
    "a=int(a)\n",
    "b=int(b)\n",
    "for i in range(a,b):\n",
    "    print(i)\n",
    "print(b)"
   ]
  },
  {
   "cell_type": "markdown",
   "metadata": {},
   "source": [
    "Extra credits:"
   ]
  },
  {
   "cell_type": "code",
   "execution_count": 38,
   "metadata": {},
   "outputs": [
    {
     "name": "stdout",
     "output_type": "stream",
     "text": [
      "Enter a number:8\n",
      "Go low\n",
      "Enter a number:2\n",
      "Go high\n",
      "Enter a number:4\n",
      "Go high\n",
      "Enter a number:6\n",
      "Go high\n",
      "Enter a number:7\n",
      "Congratulations\n"
     ]
    }
   ],
   "source": [
    "#Question 8:\n",
    "#Generate a random number using following code\n",
    "import random\n",
    "random_number = random.randint( 0, 10)\n",
    "#Now keep asking the user to guess the number. If user's guess is more than the random number, print ('Go low'),\n",
    "#if user's guess is less than the random number, print ('Go high'),\n",
    "#when user makes the right guess, print ('Congratulations') and stop the loop\n",
    "\n",
    "while(1):\n",
    "    n=int(input(\"Enter a number:\"))\n",
    "    if(n>random_number):\n",
    "        print(\"Go low\")\n",
    "    elif n<random_number:\n",
    "        print(\"Go high\")\n",
    "    else:\n",
    "        print(\"Congratulations\")\n",
    "        break\n",
    "\n"
   ]
  },
  {
   "cell_type": "code",
   "execution_count": 39,
   "metadata": {},
   "outputs": [
    {
     "name": "stdout",
     "output_type": "stream",
     "text": [
      "[4, 10, 12, 1, 28, 0, 31, 2, 6]\n"
     ]
    }
   ],
   "source": [
    "#Question 9:\n",
    "#Given the list of kkr score, return another list kkr_unique with only unique runs (The list would have only a single instance of numbers 4 and 2)\n",
    "kkr_runs = [4, 10, 12, 1, 28, 0, 31, 2, 6, 2, 4]\n",
    "kkr_unique=[]\n",
    "for i in kkr_runs:\n",
    "    if i not in kkr_unique:\n",
    "        kkr_unique.append(i)\n",
    "print(kkr_unique)\n"
   ]
  },
  {
   "cell_type": "code",
   "execution_count": 44,
   "metadata": {},
   "outputs": [
    {
     "name": "stdout",
     "output_type": "stream",
     "text": [
      "[1, 2, 2, 3, 3, 4, 5, 6, 8, 9, 10]\n"
     ]
    }
   ],
   "source": [
    "#Question 10:\n",
    "# Write your own sort functin called my_sort() that takes a list as an argument and returns the sorted list.\n",
    "# Test case:\n",
    "# my_sort([3, 14, 6, 26, 45, 9, 8]) should return [3, 6, 8, 9, 14, 26, 45]\n",
    "def my_sort(arr):\n",
    "    n = len(arr)\n",
    "    for i in range(n):\n",
    "        for j in range(0, n-i-1):\n",
    "            if arr[j] > arr[j+1] :\n",
    "                arr[j], arr[j+1] = arr[j+1], arr[j]\n",
    "    print(arr)\n",
    "my_sort([1,5,2,3,8,4,6,3,9,2,10])\n",
    "        "
   ]
  },
  {
   "cell_type": "code",
   "execution_count": null,
   "metadata": {},
   "outputs": [],
   "source": []
  }
 ],
 "metadata": {
  "kernelspec": {
   "display_name": "Python 3",
   "language": "python",
   "name": "python3"
  },
  "language_info": {
   "codemirror_mode": {
    "name": "ipython",
    "version": 3
   },
   "file_extension": ".py",
   "mimetype": "text/x-python",
   "name": "python",
   "nbconvert_exporter": "python",
   "pygments_lexer": "ipython3",
   "version": "3.6.5"
  }
 },
 "nbformat": 4,
 "nbformat_minor": 2
}
